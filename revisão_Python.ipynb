{
  "nbformat": 4,
  "nbformat_minor": 0,
  "metadata": {
    "colab": {
      "provenance": [],
      "authorship_tag": "ABX9TyO/KZedzrIPTbFYFfF/Qiqh",
      "include_colab_link": true
    },
    "kernelspec": {
      "name": "python3",
      "display_name": "Python 3"
    },
    "language_info": {
      "name": "python"
    }
  },
  "cells": [
    {
      "cell_type": "markdown",
      "metadata": {
        "id": "view-in-github",
        "colab_type": "text"
      },
      "source": [
        "<a href=\"https://colab.research.google.com/github/joaop-n12/Python_Exercicios/blob/main/revis%C3%A3o_Python.ipynb\" target=\"_parent\"><img src=\"https://colab.research.google.com/assets/colab-badge.svg\" alt=\"Open In Colab\"/></a>"
      ]
    },
    {
      "cell_type": "code",
      "source": [
        "def area_hex(x, z):\n",
        "  y = (z ** 2 + z ** 2) ** 0.5\n",
        "  h = (z ** 2 - (y/2) ** 2) ** 0.5\n",
        "  at = y * (x + h)\n",
        "  return at\n",
        "\n",
        "print(area_hex(1,2))"
      ],
      "metadata": {
        "colab": {
          "base_uri": "https://localhost:8080/"
        },
        "id": "St3Anu98z6kf",
        "outputId": "48b63764-a12f-4ca5-ce11-a2cc8e1846c3"
      },
      "execution_count": null,
      "outputs": [
        {
          "output_type": "stream",
          "name": "stdout",
          "text": [
            "6.82842712474619\n"
          ]
        }
      ]
    },
    {
      "cell_type": "code",
      "source": [
        "def primo(lista):\n",
        "  primos = []\n",
        "  for i in lista:\n",
        "    primo = True\n",
        "    for j in range(2, i-1):\n",
        "      if i % j == 0:\n",
        "        primo = False\n",
        "        break\n",
        "    if primo:\n",
        "      primos.append(i)\n",
        "  print(primos)\n",
        "\n",
        "primo([1, 5, 90, 6, 50, 56, 40, 95])\n"
      ],
      "metadata": {
        "colab": {
          "base_uri": "https://localhost:8080/"
        },
        "id": "YgydFOf5zXmP",
        "outputId": "4181e5f3-9abc-452c-8321-960a039606d2"
      },
      "execution_count": null,
      "outputs": [
        {
          "output_type": "stream",
          "name": "stdout",
          "text": [
            "[1, 5]\n"
          ]
        }
      ]
    },
    {
      "cell_type": "code",
      "source": [
        "from math import sqrt\n",
        "def raizes(a, b, c):\n",
        "  delta = b ** 2 - 4 * a * c\n",
        "  if delta == 0:\n",
        "    raiz = -b / (2 * a)\n",
        "    return raiz\n",
        "  elif delta < 0 :\n",
        "    return None\n",
        "  elif delta > 0:\n",
        "    raiz1 = (-b + sqrt(delta)) / (2 * a)\n",
        "    raiz2 = (-b - sqrt(delta)) / (2 * a)\n",
        "    return raiz1, raiz2\n",
        "  else:\n",
        "    return None\n",
        "\n",
        "raizes(1, 2, 3)"
      ],
      "metadata": {
        "id": "N458DaSEz6bO"
      },
      "execution_count": null,
      "outputs": []
    },
    {
      "cell_type": "code",
      "source": [
        "from math import sqrt\n",
        "\n",
        "def raizes(a, b, c):\n",
        "    delta = b ** 2 - 4 * a * c\n",
        "    if delta > 0:\n",
        "        raiz1 = (-b + sqrt(delta)) / (2 * a)\n",
        "        raiz2 = (-b - sqrt(delta)) / (2 * a)\n",
        "        return raiz1, raiz2\n",
        "    elif delta == 0:\n",
        "        raiz = -b / (2 * a)\n",
        "        return raiz\n",
        "    else:\n",
        "        return None\n",
        "\n",
        "raizes(1, 1, 0)\n"
      ],
      "metadata": {
        "colab": {
          "base_uri": "https://localhost:8080/"
        },
        "id": "bbpBtAcBDCUp",
        "outputId": "6645ec04-dc84-48c2-f9fc-1c1f9f5a4820"
      },
      "execution_count": null,
      "outputs": [
        {
          "output_type": "execute_result",
          "data": {
            "text/plain": [
              "(0.0, -1.0)"
            ]
          },
          "metadata": {},
          "execution_count": 21
        }
      ]
    },
    {
      "cell_type": "code",
      "source": [
        "def diferenca(raio):\n",
        "  area_externo = (2 * raio) ** 2\n",
        "  area_interno = (raio * (2 ** 0.5)) ** 2\n",
        "  return area_externo - area_interno\n",
        "\n",
        "diferenca(2)\n",
        "\n",
        "\n",
        "\n",
        "\n"
      ],
      "metadata": {
        "colab": {
          "base_uri": "https://localhost:8080/"
        },
        "id": "q2b5EJkSL1eg",
        "outputId": "87c10436-0f8c-49e3-f93b-9081a037b257"
      },
      "execution_count": null,
      "outputs": [
        {
          "output_type": "execute_result",
          "data": {
            "text/plain": [
              "7.999999999999998"
            ]
          },
          "metadata": {},
          "execution_count": 28
        }
      ]
    },
    {
      "cell_type": "code",
      "source": [
        "def abundante(x):\n",
        "  sum_divisores = sum([i for i in range(1, x) if x % i == 0])\n",
        "  if sum_divisores > x:\n",
        "    return print(f\"{x} é um número abundante\")\n",
        "  else:\n",
        "    return print(f\"{x} não é um número abundante\")\n",
        "\n",
        "abundante(6)"
      ],
      "metadata": {
        "colab": {
          "base_uri": "https://localhost:8080/"
        },
        "id": "cP-XNpbZQPQi",
        "outputId": "1b8fcd28-a18b-4f5e-cb49-5b12ed5c13d6"
      },
      "execution_count": null,
      "outputs": [
        {
          "output_type": "stream",
          "name": "stdout",
          "text": [
            "24 é um número abundante\n"
          ]
        }
      ]
    },
    {
      "cell_type": "code",
      "source": [
        "def matriz_bidimensional(matriz):\n",
        "    if not matriz:\n",
        "        return \"Matriz nula\"\n",
        "    soma_linha = sum(matriz[0])\n",
        "    for linha in matriz:\n",
        "        if sum(linha) != soma_linha:\n",
        "            return \"As somas das linhas e colunas não são iguais\"\n",
        "    num_colunas = len(matriz[0])\n",
        "    for c in range(num_colunas):\n",
        "        soma_coluna = sum(matriz[i][c] for i in range(len(matriz)))\n",
        "        if soma_coluna != soma_linha:\n",
        "            return \"As somas das linhas e colunas não são iguais\"\n",
        "    return \"Todas as linhas e colunas possuem a mesma soma\"\n",
        "\n",
        "matriz = [[8, 1, 5], [1, 5, 7], [4, 9, 2]]\n",
        "resultado = matriz_bidimensional(matriz)\n",
        "print(resultado)"
      ],
      "metadata": {
        "colab": {
          "base_uri": "https://localhost:8080/"
        },
        "id": "BGlJlxmdWy5n",
        "outputId": "95527940-35b8-47e4-9645-01f11c27233b"
      },
      "execution_count": null,
      "outputs": [
        {
          "output_type": "stream",
          "name": "stdout",
          "text": [
            "As somas das linhas e colunas não são iguais\n"
          ]
        }
      ]
    },
    {
      "cell_type": "code",
      "source": [
        "def soma_matriz(m):\n",
        "  somas = []\n",
        "  for i in range(len(m)):\n",
        "    sum = 0\n",
        "    for j in range(len(m[i])):\n",
        "      sum += m[i][j]\n",
        "  somas.append(sum)\n",
        "  sum = 0\n",
        "\n",
        "  for j in range(len(m[0])):\n",
        "    sum = 0\n",
        "    for i in range(len(m)):\n",
        "      sum += m[i][j]\n",
        "    somas.append(sum)\n",
        "    sum = 0\n",
        "\n",
        "  print(somas)\n",
        "  if len(list(set(somas))) == 1:\n",
        "    print('Soma igual em todas as linhas e colunas')\n",
        "  else:\n",
        "    print('Soma diferente em todas as linhas e colunas')\n",
        "matriz = [[8, 1, 6], [3, 5, 7], [ 4, 9, 2]]\n",
        "#soma_matriz(matriz)"
      ],
      "metadata": {
        "colab": {
          "base_uri": "https://localhost:8080/"
        },
        "id": "LPrPzOKJY6rH",
        "outputId": "f84d0805-3bb5-46c6-97af-365cf5248266"
      },
      "execution_count": null,
      "outputs": [
        {
          "output_type": "stream",
          "name": "stdout",
          "text": [
            "[15, 15, 15, 15]\n",
            "Soma igual em todas as linhas e colunas\n"
          ]
        }
      ]
    },
    {
      "cell_type": "code",
      "source": [
        "#Ex. valendo nota\n",
        "\n",
        "def pares_matriz(m):\n",
        "    pares = 0\n",
        "    num_colunas = max(len(linha) for linha in m)\n",
        "    for i in range(len(m)):\n",
        "        for j in range(len(m[i])):\n",
        "            if m[i][j] % 2 == 0:\n",
        "                pares += 1\n",
        "    for j in range(num_colunas):\n",
        "        for i in range(len(m)):\n",
        "            if j < len(m[i]) and m[i][j] % 2 == 0:\n",
        "                pares += 1\n",
        "    return pares\n",
        "\n",
        "matriz = [[2, 2, 3, 4, 5, 8], [2, 3, 4, 5, 6], [4, 4, 5, 6, 12, 7]]\n",
        "resultado = pares_matriz(matriz)\n",
        "print(\"Número de pares na matriz:\", resultado)\n"
      ],
      "metadata": {
        "colab": {
          "base_uri": "https://localhost:8080/"
        },
        "id": "qmKryhuufzCT",
        "outputId": "326bb74f-fecc-40b7-9e13-fd8c94992aac"
      },
      "execution_count": null,
      "outputs": [
        {
          "output_type": "stream",
          "name": "stdout",
          "text": [
            "Número de pares na matriz: 22\n"
          ]
        }
      ]
    }
  ]
}