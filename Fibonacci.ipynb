{
  "nbformat": 4,
  "nbformat_minor": 0,
  "metadata": {
    "colab": {
      "provenance": [],
      "authorship_tag": "ABX9TyNYKCWWkhaEV8C538YluVT4",
      "include_colab_link": true
    },
    "kernelspec": {
      "name": "python3",
      "display_name": "Python 3"
    },
    "language_info": {
      "name": "python"
    }
  },
  "cells": [
    {
      "cell_type": "markdown",
      "metadata": {
        "id": "view-in-github",
        "colab_type": "text"
      },
      "source": [
        "<a href=\"https://colab.research.google.com/github/joaop-n12/Python_Exercicios/blob/main/Fibonacci.ipynb\" target=\"_parent\"><img src=\"https://colab.research.google.com/assets/colab-badge.svg\" alt=\"Open In Colab\"/></a>"
      ]
    },
    {
      "cell_type": "code",
      "execution_count": 1,
      "metadata": {
        "id": "qotClSTO1nRe",
        "outputId": "a69e7e84-1f29-4017-fcd7-823e8b08da91",
        "colab": {
          "base_uri": "https://localhost:8080/"
        }
      },
      "outputs": [
        {
          "output_type": "stream",
          "name": "stdout",
          "text": [
            "Quantos números voce quer mostrar? 10\n",
            "0 > 1 > 1 > 2 > 3 > 5 > 8 > 13 > 21 > 34"
          ]
        }
      ],
      "source": [
        "n = int(input('Quantos números voce quer mostrar? '))\n",
        "t1 = 0\n",
        "t2 = 1\n",
        "print('{} > {}'.format(t1, t2), end='')\n",
        "cont = 3\n",
        "while cont <= n:\n",
        "      t3 = t1 + t2\n",
        "      print(' > {}'.format(t3), end='')\n",
        "      t1 = t2\n",
        "      t2 = t3\n",
        "      cont += 1"
      ]
    }
  ]
}